{
  "nbformat": 4,
  "nbformat_minor": 0,
  "metadata": {
    "colab": {
      "name": "understand_model_with_shapash.ipynb",
      "provenance": [],
      "authorship_tag": "ABX9TyPI+zR8s+mQohxAhZa6rG0u",
      "include_colab_link": true
    },
    "kernelspec": {
      "name": "python3",
      "display_name": "Python 3"
    },
    "language_info": {
      "name": "python"
    }
  },
  "cells": [
    {
      "cell_type": "markdown",
      "metadata": {
        "id": "view-in-github",
        "colab_type": "text"
      },
      "source": [
        "<a href=\"https://colab.research.google.com/github/mehdi-mustapha/PROJETS-JEDHA/blob/main/understand_model_with_shapash.ipynb\" target=\"_parent\"><img src=\"https://colab.research.google.com/assets/colab-badge.svg\" alt=\"Open In Colab\"/></a>"
      ]
    },
    {
      "cell_type": "code",
      "execution_count": null,
      "metadata": {
        "id": "mECi0fkW3t0a"
      },
      "outputs": [],
      "source": [
        "import os\n",
        "from google.colab import drive\n",
        "drive.mount('/content/drive', force_remount=True)"
      ]
    },
    {
      "cell_type": "code",
      "source": [
        "os.chdir('/content/drive/MyDrive/111_goldfinger/data_modeling')"
      ],
      "metadata": {
        "id": "KeZPt57y4D-4"
      },
      "execution_count": null,
      "outputs": []
    },
    {
      "cell_type": "code",
      "source": [
        "!pip install shapash"
      ],
      "metadata": {
        "id": "n8txmGQQ4GoQ"
      },
      "execution_count": null,
      "outputs": []
    },
    {
      "cell_type": "code",
      "source": [
        "!pip install matplotlib==3.4\n",
        "!pip install sklearn"
      ],
      "metadata": {
        "id": "yZcinsDo4JXY"
      },
      "execution_count": null,
      "outputs": []
    },
    {
      "cell_type": "code",
      "source": [
        "import pandas as pd\n",
        "import numpy as np\n",
        "import warnings\n",
        "warnings.filterwarnings(\"ignore\") # to avoid deprecation warnings\n",
        "import sys\n",
        "\n",
        "\n",
        "#Graph libraries\n",
        "\n",
        "import matplotlib.pyplot as plt\n",
        "from matplotlib.ticker import PercentFormatter\n",
        "import seaborn as sns\n",
        "%matplotlib inline\n",
        "\n",
        "\n",
        "#Preprocessing libraries\n",
        "\n",
        "from sklearn.model_selection import train_test_split\n",
        "\n",
        "\n",
        "#Model Selection\n",
        "\n",
        "from xgboost import XGBRegressor\n",
        "from sklearn.ensemble import RandomForestClassifier\n",
        "\n",
        "\n",
        "from sklearn.metrics import accuracy_score\n",
        "from sklearn.metrics import f1_score\n",
        "\n",
        "\n",
        "import sklearn.neighbors._base\n",
        "sys.modules['sklearn.neighbors.base'] = sklearn.neighbors._base"
      ],
      "metadata": {
        "id": "08v7gK-14N35"
      },
      "execution_count": null,
      "outputs": []
    },
    {
      "cell_type": "code",
      "source": [
        "#Loading dataset\n",
        "df = pd.read_csv('/content/drive/MyDrive/111_goldfinger/data_modeling/tech.csv')"
      ],
      "metadata": {
        "id": "oyQ2GQv24ejK"
      },
      "execution_count": null,
      "outputs": []
    },
    {
      "cell_type": "code",
      "source": [
        "df.sample()"
      ],
      "metadata": {
        "id": "3CP9O1Vw4mIa"
      },
      "execution_count": null,
      "outputs": []
    },
    {
      "cell_type": "code",
      "source": [
        "df = df.drop(columns=['Unnamed: 0'])"
      ],
      "metadata": {
        "id": "DOgSEste4rBx"
      },
      "execution_count": null,
      "outputs": []
    },
    {
      "cell_type": "code",
      "source": [
        "df = df[['content_len', 'title_len_char', 'h1_len', 'nb_h3', 'nb_links',\n",
        "       'has_canonical', 'is_top_ten', 'content_score', 'title_score',\n",
        "      'ref_sn']]"
      ],
      "metadata": {
        "id": "sEXQPvCQ4xd2"
      },
      "execution_count": null,
      "outputs": []
    },
    {
      "cell_type": "code",
      "source": [
        "df.dropna(subset=['ref_sn'], inplace=True)"
      ],
      "metadata": {
        "id": "0OZ-N-cp46jW"
      },
      "execution_count": null,
      "outputs": []
    },
    {
      "cell_type": "code",
      "source": [
        "df = df[df.ref_sn != 0]"
      ],
      "metadata": {
        "id": "eXghNUwN49Ky"
      },
      "execution_count": null,
      "outputs": []
    },
    {
      "cell_type": "markdown",
      "source": [
        "#**Part II Preprocessing & model selection**\n",
        "##**Pipelines**\n",
        "Splitting features & target"
      ],
      "metadata": {
        "id": "6VULgr045F-N"
      }
    },
    {
      "cell_type": "code",
      "source": [
        "target = 'is_top_ten'\n",
        "\n",
        "X = df.loc[:, df.columns != target]\n",
        "Y = df.loc[:,target] \n",
        "\n",
        "Y = Y.apply(lambda x: float(x[1:]) if type(x)==str else x)\n",
        "\n",
        "#Split the data into a train set and test set \n",
        "X_train, X_test, Y_train, Y_test = train_test_split(X, Y, test_size = 0.2, random_state = 42)\n",
        "\n",
        "print(\"...train test split Done !\")"
      ],
      "metadata": {
        "id": "7LJtSFTg5YB8"
      },
      "execution_count": null,
      "outputs": []
    },
    {
      "cell_type": "markdown",
      "source": [
        "#**PART II : Model fitting**"
      ],
      "metadata": {
        "id": "BwC5LUff5c_K"
      }
    },
    {
      "cell_type": "code",
      "source": [
        "#Instanciate models\n",
        "\n",
        "from sklearn.ensemble import RandomForestClassifier\n",
        "from sklearn.metrics import recall_score\n",
        "\n",
        "model = RandomForestClassifier(max_depth= 15, \n",
        "                                  n_estimators= 300\n",
        "                                  ,max_leaf_nodes=1024)\n",
        "model.fit(X_train, Y_train)\n",
        "Y_train_pred    = model.predict(X_train)\n",
        "Y_test_pred     = model.predict(X_test)\n",
        "score           = model.score(X_test, Y_test)\n",
        "accuracy_test   = accuracy_score(Y_test, Y_test_pred)\n",
        "recall_test     = recall_score(Y_test, Y_test_pred)\n",
        "f1_score_test   = f1_score(Y_test, Y_test_pred)\n",
        "print('model : ', model, ' - score : ', score,  'accuracy_test : ', accuracy_test, 'recall : ', recall_test, 'f1_score_test' , f1_score_test)"
      ],
      "metadata": {
        "id": "OdslkR4o5n9j"
      },
      "execution_count": null,
      "outputs": []
    },
    {
      "cell_type": "markdown",
      "source": [
        "#**Understand my model with shapash**\n",
        "\n",
        "Declare and Compile SmartExplainer"
      ],
      "metadata": {
        "id": "5SFNaGqJ7fmo"
      }
    },
    {
      "cell_type": "code",
      "source": [
        "from shapash.explainer.smart_explainer import SmartExplainer"
      ],
      "metadata": {
        "id": "TePve6jm7wjW"
      },
      "execution_count": null,
      "outputs": []
    },
    {
      "cell_type": "code",
      "source": [
        "xpl = SmartExplainer()"
      ],
      "metadata": {
        "id": "r4MHtu8L760J"
      },
      "execution_count": null,
      "outputs": []
    },
    {
      "cell_type": "code",
      "source": [
        "Y_pred = pd.DataFrame(model.fit(X_train, Y_train).predict(X_test),columns=['pred'],index=X_test.index)"
      ],
      "metadata": {
        "id": "hkvjgj4B8GLr"
      },
      "execution_count": null,
      "outputs": []
    },
    {
      "cell_type": "code",
      "source": [
        "xpl.compile(\n",
        "    x       = X_test,\n",
        "    model   = model.fit(X_train, Y_train),\n",
        "    y_pred  = Y_pred\n",
        "            )"
      ],
      "metadata": {
        "id": "PHouVfao8NAu"
      },
      "execution_count": null,
      "outputs": []
    },
    {
      "cell_type": "code",
      "source": [
        "xpl.plot.features_importance()"
      ],
      "metadata": {
        "id": "G_PeQc9y8TTM"
      },
      "execution_count": null,
      "outputs": []
    },
    {
      "cell_type": "markdown",
      "source": [
        "**Understand how a feature contributes**"
      ],
      "metadata": {
        "id": "yUO6VlzH8cG-"
      }
    },
    {
      "cell_type": "code",
      "source": [
        "xpl.plot.contribution_plot(\"content_len\")"
      ],
      "metadata": {
        "id": "sQe-tPIY8g3F"
      },
      "execution_count": null,
      "outputs": []
    },
    {
      "cell_type": "code",
      "source": [
        "xpl.plot.contribution_plot('nb_links')"
      ],
      "metadata": {
        "id": "luiiXotn8lWw"
      },
      "execution_count": null,
      "outputs": []
    },
    {
      "cell_type": "code",
      "source": [
        "xpl.plot.contribution_plot('ref_sn')"
      ],
      "metadata": {
        "id": "wocgoeDU8p5U"
      },
      "execution_count": null,
      "outputs": []
    },
    {
      "cell_type": "code",
      "source": [
        "xpl.add(y_pred=Y_pred)\n",
        "xpl.plot.contribution_plot(col='content_score')"
      ],
      "metadata": {
        "id": "Vb6JdEkb8yvZ"
      },
      "execution_count": null,
      "outputs": []
    },
    {
      "cell_type": "code",
      "source": [
        "xpl.plot.top_interactions_plot(nb_top_interactions=5)"
      ],
      "metadata": {
        "id": "wx3duG3s835x"
      },
      "execution_count": null,
      "outputs": []
    }
  ]
}