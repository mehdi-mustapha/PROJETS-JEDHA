{
  "nbformat": 4,
  "nbformat_minor": 0,
  "metadata": {
    "colab": {
      "name": "features_calculation.ipynb",
      "provenance": [],
      "mount_file_id": "1Th_T-4yzMjWkDtOofZw3PPIZVCjXEcb9",
      "authorship_tag": "ABX9TyP0mL9CQcVIRDZPMH4kMAxU",
      "include_colab_link": true
    },
    "kernelspec": {
      "name": "python3",
      "display_name": "Python 3"
    },
    "language_info": {
      "name": "python"
    }
  },
  "cells": [
    {
      "cell_type": "markdown",
      "metadata": {
        "id": "view-in-github",
        "colab_type": "text"
      },
      "source": [
        "<a href=\"https://colab.research.google.com/github/mehdi-mustapha/PROJETS-JEDHA/blob/main/features_calculation.ipynb\" target=\"_parent\"><img src=\"https://colab.research.google.com/assets/colab-badge.svg\" alt=\"Open In Colab\"/></a>"
      ]
    },
    {
      "cell_type": "markdown",
      "source": [
        "# **Load Packages**"
      ],
      "metadata": {
        "id": "RzaNNGTDJinC"
      }
    },
    {
      "cell_type": "code",
      "source": [
        "!pip install spacy -q\n",
        "!python -m spacy download fr_core_news_sm -q\n",
        "!pip install unidecode\n",
        "!pip install unidecode\n",
        "!pip install wordcloud -q\n",
        "!pip install stylecloud\n",
        "!pip install matplotlib==3.4\n",
        "!pip install random2"
      ],
      "metadata": {
        "id": "YzPG0epJoFOo"
      },
      "execution_count": null,
      "outputs": []
    },
    {
      "cell_type": "code",
      "source": [
        "import os\n",
        "from google.colab import drive\n",
        "drive.mount(\"/content/drive\", force_remount=True)"
      ],
      "metadata": {
        "id": "-vgr3XksoLfg"
      },
      "execution_count": null,
      "outputs": []
    },
    {
      "cell_type": "code",
      "source": [
        "import fr_core_news_sm\n",
        "import string\n",
        "import unidecode\n",
        "from unidecode import unidecode\n",
        "import re\n",
        "import pandas as pd\n",
        "import json\n",
        "from fnmatch import fnmatch\n",
        "import random\n",
        "\n",
        "# Import matplotlib and wordcloud \n",
        "import chardet\n",
        "import spacy\n",
        "import fr_core_news_sm\n",
        "import numpy as np\n",
        "from PIL import Image\n",
        "import matplotlib.pyplot as plt\n",
        "import wordcloud\n",
        "from spacy.lang.fr.stop_words import STOP_WORDS\n",
        "import numpy as np\n",
        "from PIL import Image\n",
        "from collections import Counter\n",
        "\n",
        "\n",
        "import warnings; warnings.filterwarnings(action='ignore')\n",
        "import time\n",
        "\n",
        "\n",
        "import seaborn as sns\n",
        "%matplotlib inline\n",
        "large = 18; med = 14; small = 11\n",
        "params = {'axes.titlesize': large,\n",
        "          'legend.fontsize': small,\n",
        "          'figure.figsize': (16, 8),\n",
        "          'axes.labelsize': small,\n",
        "          'axes.titlesize': small,\n",
        "          'xtick.labelsize': small,\n",
        "          'ytick.labelsize': small,\n",
        "          'figure.titlesize': med}\n",
        "plt.rcParams.update(params)\n",
        "plt.style.use('seaborn-whitegrid')\n",
        "sns.set_style(\"white\")"
      ],
      "metadata": {
        "id": "icbG0BxT4khP"
      },
      "execution_count": null,
      "outputs": []
    },
    {
      "cell_type": "markdown",
      "source": [
        "# **Load keyword files**"
      ],
      "metadata": {
        "id": "J-LOpHOHKRdh"
      }
    },
    {
      "cell_type": "markdown",
      "source": [
        "All keywords have been exported from Google Ads and already cleaned"
      ],
      "metadata": {
        "id": "Bod4fOi5K8DO"
      }
    },
    {
      "cell_type": "code",
      "source": [
        "#Loading kewywords\n",
        "kw = pd.read_csv('/content/drive/MyDrive/111_goldfinger/data_collection/results/correct_keywords.csv')\n",
        "kw['kw_len'] = [len(x.split(' ')) for x in kw.keyword]\n",
        "kw = kw.sort_values(by='kw_len', ascending=False)[['keyword', 'volume']].values\n",
        "kw[1:5]"
      ],
      "metadata": {
        "id": "LbokzRbyoajb"
      },
      "execution_count": null,
      "outputs": []
    },
    {
      "cell_type": "markdown",
      "source": [
        ""
      ],
      "metadata": {
        "id": "_RLyuIS_Jw3X"
      }
    },
    {
      "cell_type": "markdown",
      "source": [
        "# **Load positions and urls from 0 to 100**"
      ],
      "metadata": {
        "id": "aomdFv4HN7Je"
      }
    },
    {
      "cell_type": "code",
      "source": [
        "from fnmatch import fnmatch\n",
        "#list files related to serp data ins \"liste\"\n",
        "root = '/content/drive/MyDrive/111_goldfinger/data_collection'\n",
        "pattern = \"*serp*\"\n",
        "i=0\n",
        "liste = []\n",
        "for path, subdirs, files in os.walk(root):\n",
        "    for name in files:\n",
        "        if fnmatch(name, pattern):\n",
        "            liste.append(name)\n",
        "            i+=1\n",
        "liste.append('last.csv')"
      ],
      "metadata": {
        "id": "B5CSPvIxon3W"
      },
      "execution_count": null,
      "outputs": []
    },
    {
      "cell_type": "code",
      "source": [
        "os.chdir('/content/drive/MyDrive/111_goldfinger/data_collection')\n",
        "df = pd.DataFrame()\n",
        "for e in liste:\n",
        "  df = pd.concat([df, pd.read_csv(e)], axis=0)"
      ],
      "metadata": {
        "id": "0DIFdcB3ozD9"
      },
      "execution_count": null,
      "outputs": []
    },
    {
      "cell_type": "code",
      "source": [
        "df.sample()"
      ],
      "metadata": {
        "id": "6ZjOBzt_o3uW"
      },
      "execution_count": null,
      "outputs": []
    },
    {
      "cell_type": "code",
      "source": [
        "# There are more than 1500 columns such as 'fileFormat',\n",
        "# 'formattedSearchTime', 'formattedTotalResults', 'formattedUrl',\n",
        "# 'htmlFormattedUrl', 'htmlSnippet', 'htmlTitle', 'inputEncoding', 'kind',\n",
        "# 'mime', 'outputEncoding', 'pagemap', 'safe', 'searchTime', 'startIndex',\n",
        "# 'cse_thumbnail', 'metatags', 'cse_image', 'listitem', 'BreadcrumbList',\n",
        "# 'article', 'msapplication-tilecolor', 'og:image', 'og:type',\n",
        "# 'og:image:width', 'fb:app_id', 'theme-color', 'viewport', 'og:title',\n",
        "# 'og:image:height', 'og:url', 'og:description', 'format-detection',\n",
        "# 'twitter:app:id:googleplay'... We'll then select the most useful for ou analysis\n",
        "\n",
        "df = df[['searchTerms', 'rank', 'title','displayLink', 'link']] "
      ],
      "metadata": {
        "id": "_eZiPlF_pA4h"
      },
      "execution_count": null,
      "outputs": []
    },
    {
      "cell_type": "code",
      "source": [
        "# Drop records with no availaible url\n",
        "df.dropna(subset=['link'], inplace=True)\n",
        "print(df.shape)"
      ],
      "metadata": {
        "id": "dGw4yp4VpKKl"
      },
      "execution_count": null,
      "outputs": []
    },
    {
      "cell_type": "markdown",
      "source": [
        "# **Load pages from 0 to 100**"
      ],
      "metadata": {
        "id": "hJXTWG4GPV2w"
      }
    },
    {
      "cell_type": "code",
      "source": [
        "# Loading all scraped pages from position 0 to 100\n",
        "\n",
        "pages_liste = ['out_of_top.csv', 'lot1.csv', 'lot2.csv', 'lot3.csv', 'lot4.csv', '11_to_20.csv'] #préférer les fichiers json"
      ],
      "metadata": {
        "id": "Fq27wjI5pY57"
      },
      "execution_count": null,
      "outputs": []
    },
    {
      "cell_type": "code",
      "source": [
        "os.chdir('/content/drive/MyDrive/111_goldfinger/data_collection/all_pages')\n",
        "dfr = pd.DataFrame()\n",
        "for e in pages_liste:\n",
        "  print(e)\n",
        "  dfr = pd.concat([dfr, pd.read_csv(e,error_bad_lines=False, skip_blank_lines=True, engine=\"python\")], axis=0)"
      ],
      "metadata": {
        "id": "heTeZ4uYphBz"
      },
      "execution_count": null,
      "outputs": []
    },
    {
      "cell_type": "code",
      "source": [
        "dfr.shape"
      ],
      "metadata": {
        "id": "0Cn3r0KupoTC"
      },
      "execution_count": null,
      "outputs": []
    },
    {
      "cell_type": "code",
      "source": [
        "# Merge position and pages content\n",
        "data = dfr.merge(df, left_on='raw_url', right_on='link', how='left')  #à reprendre quand integ en json\n",
        "data.sample()"
      ],
      "metadata": {
        "id": "5ouWvU0pps9T"
      },
      "execution_count": null,
      "outputs": []
    },
    {
      "cell_type": "code",
      "source": [
        "data.sample()"
      ],
      "metadata": {
        "id": "gln-y5rNp0KV"
      },
      "execution_count": null,
      "outputs": []
    },
    {
      "cell_type": "code",
      "source": [
        "data = data.drop(columns = ['title_y']).rename(columns={'title_x' :'title'})\n",
        "data.drop_duplicates(inplace=True)"
      ],
      "metadata": {
        "id": "Tpmehm7Zp41F"
      },
      "execution_count": null,
      "outputs": []
    },
    {
      "cell_type": "code",
      "source": [
        "data.shape"
      ],
      "metadata": {
        "id": "CoXrRdQmqAtf"
      },
      "execution_count": null,
      "outputs": []
    },
    {
      "cell_type": "code",
      "source": [
        "os.chdir('/content/drive/MyDrive/111_goldfinger/data_processing')\n",
        "data.to_csv('brut_data.csv')"
      ],
      "metadata": {
        "id": "OkbqHCfAqHE3"
      },
      "execution_count": null,
      "outputs": []
    },
    {
      "cell_type": "markdown",
      "source": [
        "# **Semantic scores calculation** "
      ],
      "metadata": {
        "id": "twlHC588RG2N"
      }
    },
    {
      "cell_type": "code",
      "source": [
        "data = pd.read_csv('/content/drive/MyDrive/111_goldfinger/data_processing/brut_data.csv')\n",
        "data = data[~data['rank'].isna()] #drop lines with no position"
      ],
      "metadata": {
        "id": "OGI3dN-1qOie"
      },
      "execution_count": null,
      "outputs": []
    },
    {
      "cell_type": "code",
      "source": [
        "data.drop_duplicates(inplace=True)"
      ],
      "metadata": {
        "id": "7UKYZoTDqU35"
      },
      "execution_count": null,
      "outputs": []
    },
    {
      "cell_type": "code",
      "source": [
        "#content\n",
        "data['content_len']               = [len(str(x)) for x in data.content]\n",
        "\n",
        "#title\n",
        "data['title_len_char']             = [len(str(x)) for x in data.title]\n",
        "\n",
        "#h1\n",
        "data['h1_len']                    = [len(str(x).split(' ')) for x in data.h1]\n",
        "\n",
        " \n",
        "#h2, h3\n",
        "data['nb_h2'] \t\t\t\t\t          = [len(re.findall('@@',str(x))) for x in data.h2]\n",
        "data['nb_h3'] \t\t\t\t\t          = [len(re.findall('@@',str(x))) for x in data.h3]\n",
        "\n",
        "#links\n",
        "data['nb_links']                  = [len(re.findall('@@',str(x))) for x in data.nav_links_text]\n",
        "data['has_canonical']             = [1 if isinstance(x, str) else 0 for x in data.canonical]\n",
        "data['is_top_ten']                = [1 if x < 11 else 0 for x in data['rank']]\n",
        "\n",
        "\n",
        "# data.to_csv('+++basic.csv')  "
      ],
      "metadata": {
        "id": "7m7BFA70qcHP"
      },
      "execution_count": null,
      "outputs": []
    },
    {
      "cell_type": "code",
      "source": [
        "data = data.drop(columns= ['Unnamed: 0', 'canonical', 'h2', 'h3', 'h4', 'meta_desc',\n",
        "        'title', 'searchTerms', 'nav_links_text', 'rank'])"
      ],
      "metadata": {
        "id": "UcM_VAc1qkqE"
      },
      "execution_count": null,
      "outputs": []
    },
    {
      "cell_type": "code",
      "source": [
        "data.to_csv('data_without_score.csv')"
      ],
      "metadata": {
        "id": "CvxmJ3DbqqFc"
      },
      "execution_count": null,
      "outputs": []
    },
    {
      "cell_type": "markdown",
      "source": [
        "adding semantic scores for title & content"
      ],
      "metadata": {
        "id": "cJ3Rt27fRv4k"
      }
    },
    {
      "cell_type": "code",
      "source": [
        "# Check if the kw list is loaded\n",
        "kw[random.randint(0, len(kw))]"
      ],
      "metadata": {
        "id": "smk1GRLyqxMd"
      },
      "execution_count": null,
      "outputs": []
    },
    {
      "cell_type": "code",
      "source": [
        "# Custom function to estimate semantic relevance\n",
        "# Goal :  evaluate if any of keywords is in document \n",
        "# Returns a score based on number of (Google Ads) keywords in text x volume (of search) / text lenght\n",
        "\n",
        "def word_score(doc, kw):\n",
        "  score = 0\n",
        "  tokens = []\n",
        "  try:\n",
        "    if isinstance(doc, str):\n",
        "      doc = doc.lower()\n",
        "      if '@@' in doc:\n",
        "        doc = doc.split('@@')\n",
        "        \n",
        "      initial_len = len(doc.split(' '))\n",
        "      \n",
        "      for e in kw:\n",
        "        if doc is not None:\n",
        "          try:\n",
        "            if len(doc.replace(e[0], '')) < len(doc):\n",
        "              score += e[1]\n",
        "              tokens += e[0] + '@@'\n",
        "              doc = doc.replace(e[0], '')\n",
        "          except:\n",
        "            pass\n",
        "\n",
        "      score = score / initial_len\n",
        "  except:\n",
        "    score = 0\n",
        "    tokens = []\n",
        "\n",
        "  \n",
        "  return score"
      ],
      "metadata": {
        "id": "6VYsu7Pkq5w_"
      },
      "execution_count": null,
      "outputs": []
    },
    {
      "cell_type": "code",
      "source": [
        "data['content_score']             = [word_score(x, kw) for x in data.content]\n",
        "data['title_score']               = [word_score(x, kw) for x in data.title]"
      ],
      "metadata": {
        "id": "_LG1ba6krDkI"
      },
      "execution_count": null,
      "outputs": []
    },
    {
      "cell_type": "code",
      "source": [
        "data.sample()"
      ],
      "metadata": {
        "id": "wxJyjW9VrJOI"
      },
      "execution_count": null,
      "outputs": []
    },
    {
      "cell_type": "code",
      "source": [
        "data.to_csv('/content/drive/MyDrive/111_goldfinger/data_processing/data_w_score.csv')"
      ],
      "metadata": {
        "id": "mEOwmZ4drPHP"
      },
      "execution_count": null,
      "outputs": []
    },
    {
      "cell_type": "markdown",
      "source": [
        "# **Append page rank data estimates**"
      ],
      "metadata": {
        "id": "UCd8DdpnSfGg"
      }
    },
    {
      "cell_type": "code",
      "source": [
        "data = pd.read_csv('/content/drive/MyDrive/111_goldfinger/data_processing/data_w_score.csv')"
      ],
      "metadata": {
        "id": "y9AlEalLrVhv"
      },
      "execution_count": null,
      "outputs": []
    },
    {
      "cell_type": "code",
      "source": [
        "pr = pd.read_csv('/content/drive/MyDrive/111_goldfinger/data_collection/results/page_rank_done.csv').drop(columns='Unnamed: 0')"
      ],
      "metadata": {
        "id": "nCd3ujZVrevy"
      },
      "execution_count": null,
      "outputs": []
    },
    {
      "cell_type": "code",
      "source": [
        "data = data.merge(pr, left_on='displayLink', right_on='dns', how='left')"
      ],
      "metadata": {
        "id": "O7X4ymhzrk1n"
      },
      "execution_count": null,
      "outputs": []
    },
    {
      "cell_type": "code",
      "source": [
        "data = data.drop(columns=['Unnamed: 0', 'content', 'h1', 'header_links_href', 'header_links_text',\n",
        "       'raw_url', 'displayLink', 'link', \n",
        "        'title',  'dns']).rename(columns={'score' : 'page_rank'}).drop_duplicates()"
      ],
      "metadata": {
        "id": "5yguG4E8rq5n"
      },
      "execution_count": null,
      "outputs": []
    },
    {
      "cell_type": "code",
      "source": [
        "data.drop_duplicates().fillna(0).drop(columns=['Unnamed: 0.1']).to_csv('/content/drive/MyDrive/111_goldfinger/data_processing/experimental.csv')"
      ],
      "metadata": {
        "id": "lTfX0f2Tr52m"
      },
      "execution_count": null,
      "outputs": []
    },
    {
      "cell_type": "markdown",
      "source": [
        "# **Fetch  & append Majestic Rank, Referring Subnets, Referring IPs data**"
      ],
      "metadata": {
        "id": "R8e6SNaDTPEu"
      }
    },
    {
      "cell_type": "markdown",
      "source": [
        "Selecting most frequent domains (> 93% of dataset)"
      ],
      "metadata": {
        "id": "yNFX2h7QTtzT"
      }
    },
    {
      "cell_type": "markdown",
      "metadata": {
        "id": "o6mTG5LzlRCK"
      },
      "source": [
        "Builtwith offers a splendid api for fetching tech data points.\n",
        "We're going to collect some additionnal features (and check if they are relevant for analysis):\n",
        "```\n",
        "* technologies'  = len(r.json()['Results'][0]['Result']['Paths'][0]['Technologies'])\n",
        "* 'mjrank'       = r.json()['Results'][0]['Meta']['MJRank']                           #Majestic Rank between 1 and 1,000,000\n",
        "* 'a_rank'        = r.json()['Results'][0]['Meta']['ARank']                           #Page Rank between 1 and 100,000,000\n",
        "* 'ref_sn'        = r.json()['Results'][0]['Attributes']['RefSN']                     #Referring Subnets to Domain from Majestic\n",
        "* 'ref_ip'        = r.json()['Results'][0]['Attributes']['RefIP']                     #Referring IPs to Domain from Majestic\n",
        "```\n",
        "\n"
      ]
    },
    {
      "cell_type": "markdown",
      "source": [
        "Selecting most frequent domains (> 93% of dataset)"
      ],
      "metadata": {
        "id": "AJ13HWEJURYT"
      }
    },
    {
      "cell_type": "code",
      "source": [
        "import pandas as pd\n",
        "df = pd.read_csv('/content/drive/MyDrive/111_goldfinger/data_processing/data_w_score.csv')"
      ],
      "metadata": {
        "id": "pBxFQ0QGsF1N"
      },
      "execution_count": null,
      "outputs": []
    },
    {
      "cell_type": "code",
      "source": [
        "#Enumeration of unique domains\n",
        "df = df[['displayLink', 'link']]\n",
        "df.displayLink.unique()\n",
        "print(len(df.displayLink.unique()), 'unique domains')"
      ],
      "metadata": {
        "id": "SgepqpjisPVw"
      },
      "execution_count": null,
      "outputs": []
    },
    {
      "cell_type": "code",
      "source": [
        "# What are the dns that come up most often?\n",
        "count_dns = df.displayLink.value_counts().to_frame()\n",
        "count_dns['cum_sum'] = count_dns['displayLink'].cumsum()\n",
        "count_dns['cum_perc'] = 100*count_dns['cum_sum']/count_dns['displayLink'].sum()\n",
        "count_dns = count_dns[count_dns.displayLink\t > 10]\n",
        "count_dns"
      ],
      "metadata": {
        "id": "Y_JQQl-SsWap"
      },
      "execution_count": null,
      "outputs": []
    },
    {
      "cell_type": "code",
      "source": [
        "import os\n",
        "import requests\n",
        "from time import sleep\n",
        "bw_key = open(\"/content/drive/MyDrive/111_goldfinger/data_collection/bw_key\", \"r\").read()\n",
        "tech_features = pd.DataFrame()\n",
        "\n",
        "for elem in count_dns.index:\n",
        "  e = elem.replace('www.', '')\n",
        "  url = 'https://api.builtwith.com/v19/api.json?KEY='  + bw_key + '&LOOKUP=' +e\n",
        "\n",
        "  r = requests.get(url)\n",
        "  try:\n",
        "    technologies  = len(r.json()['Results'][0]['Result']['Paths'][0]['Technologies'])\n",
        "  except:\n",
        "    technologies =0\n",
        "  try:\n",
        "    majestic      = r.json()['Results'][0]['Meta']['Majestic'] \n",
        "  except:\n",
        "    majestic = 0\n",
        "  try:\n",
        "    mjrank         = r.json()['Results'][0]['Attributes']['MJRank']\n",
        "  except:\n",
        "    mjrank = 0\n",
        "  try:\n",
        "    a_rank        = r.json()['Results'][0]['Meta']['ARank']\n",
        "  except:\n",
        "    a_rank = 0\n",
        "  try:                              \n",
        "    ref_sn        = r.json()['Results'][0]['Attributes']['RefSN']\n",
        "  except:\n",
        "    ref_sn = 0\n",
        "  try:                  \n",
        "    ref_ip        = r.json()['Results'][0]['Attributes']['RefIP']\n",
        "  except:\n",
        "    ref_ip = 0\n",
        "  try:                 \n",
        "    spend         = r.json()['Results'][0]['Result']['Spend']\n",
        "  except:\n",
        "    spend = 0\n",
        "\n",
        "  tech = {\n",
        "  'dns'           : elem,\n",
        "  'technologies'  : technologies,\n",
        "  'majestic'      : majestic,\n",
        "  'mjrank'        : mjrank,                          \n",
        "  'a_rank'        : a_rank,                          \n",
        "  'ref_sn'        : ref_sn,                    \n",
        "  'ref_ip'        : ref_ip,                    \n",
        "  'spend'         : spend,                    \n",
        "  }\n",
        "\n",
        "  tech_features = pd.concat([tech_features,pd.DataFrame.from_dict(data=tech, orient='index').T], axis=0 )\n",
        "  sleep(0.5)\n",
        "tech_features.to_csv('/content/drive/MyDrive/111_goldfinger/data_collection/builtwith.csv')\n",
        "tech_features"
      ],
      "metadata": {
        "id": "IwvTWy7Dshmj"
      },
      "execution_count": null,
      "outputs": []
    },
    {
      "cell_type": "code",
      "source": [
        "# Merging DataFrames\n",
        "df_with_tech= df.merge(tech_features, left_on='displayLink', right_on='dns', how='left')"
      ],
      "metadata": {
        "id": "rX-pcfjYtQYM"
      },
      "execution_count": null,
      "outputs": []
    },
    {
      "cell_type": "code",
      "source": [
        "df_with_tech = df_with_tech.drop(columns= ['Unnamed: 0', 'Unnamed: 0.1', 'content', 'h1', 'header_links_href',\n",
        "       'header_links_text', 'raw_url', 'displayLink', 'link','title','dns'])"
      ],
      "metadata": {
        "id": "AvEpjU5dtWNj"
      },
      "execution_count": null,
      "outputs": []
    },
    {
      "cell_type": "code",
      "source": [
        "df_with_tech.sample().T"
      ],
      "metadata": {
        "id": "EbMIEqCYtcrn"
      },
      "execution_count": null,
      "outputs": []
    },
    {
      "cell_type": "code",
      "source": [
        "df_with_tech.to_csv('tech.csv')"
      ],
      "metadata": {
        "id": "7mgEFn-wtl10"
      },
      "execution_count": null,
      "outputs": []
    },
    {
      "cell_type": "markdown",
      "source": [
        "# **Load keyword files**"
      ],
      "metadata": {
        "id": "in3kM-JjhlkI"
      }
    }
  ]
}