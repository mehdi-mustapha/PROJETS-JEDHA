{
  "nbformat": 4,
  "nbformat_minor": 0,
  "metadata": {
    "colab": {
      "name": "page_rank_data_collection.ipynb",
      "provenance": [],
      "authorship_tag": "ABX9TyOE8K8+S10i2ViKhxfszi2O",
      "include_colab_link": true
    },
    "kernelspec": {
      "name": "python3",
      "display_name": "Python 3"
    },
    "language_info": {
      "name": "python"
    }
  },
  "cells": [
    {
      "cell_type": "markdown",
      "metadata": {
        "id": "view-in-github",
        "colab_type": "text"
      },
      "source": [
        "<a href=\"https://colab.research.google.com/github/mehdi-mustapha/PROJETS-JEDHA/blob/main/page_rank_data_collection.ipynb\" target=\"_parent\"><img src=\"https://colab.research.google.com/assets/colab-badge.svg\" alt=\"Open In Colab\"/></a>"
      ]
    },
    {
      "cell_type": "markdown",
      "source": [
        "# **Collecte des page rank**"
      ],
      "metadata": {
        "id": "EriEeAmS3sfH"
      }
    },
    {
      "cell_type": "markdown",
      "source": [
        "Le site https://www.calcul-pagerank.fr/ semble donner un calcul crédible du page_rank Google. \n",
        "\n",
        "Ce score indique la qualité du maillage interne, c'est à dire une évaluation de la qualité des liens qui entrent et qui sortent sur une page donnée. Le Google page rank est confidentiel depuis 2016. \n",
        "\n",
        "En soi, le calcul de l'approximation du page rank devrait faire l'objet d'un projet spécifique. La litterature sur le sujet est assez abondante et devrait permettre d'obtenir de bien meilleurs résultats. Calculer un page rank nécessiterait de crawler l'ensemble d'un site. Ce calcul nécessite en effet de prendre en compte l'ensemble des liens entrants et sortants sur une page déterminée.\n",
        "\n",
        "Pour aller à l'essentiel et pour gagner du temps (une approximation suffit), nous avons donc utilisé le site calcul-page_rank comme source.\n",
        "\n",
        "**Méthode:**\n",
        "\n",
        "Le score est indiqué dans une image obtenue à partir d'une url du type :\n",
        "`https://www.calcul-pagerank.fr/client/www.calcul-pagerank.fr.gif`\n",
        "\n",
        " ✅ Ici pas besoin de machine learning : il n'y a que 10 images pour 10 scores de 0 à 9 !\n",
        "\n",
        " ![6.gif](data:image/gif;base64,R0lGODlhPAANALMAADMzM5KSkkFBQaCgoGlpaa2trU5OTuTk5FxcXNDQ0Hd3d1KTUl6qXpmZmWZmZv///yH5BAAAAAAALAAAAAA8AA0AQARx0MlJq704a/t6D8QzCF7XnGiqrmybelL5FEIim26uu/Dm/8DNbUgsGo/DWAlhAAAGsgZjSq1arwtkqdHTer9gJXhMlok9ASe0zCaeH4oAUXqt17NfbudNkNOiC4GCg4SFeF56D28HTTVtj2YOkJNHDhEAOw==)\n",
        "\n",
        "\n",
        "L'image ci-dessus représente une note de 6.\n",
        "\n",
        "Cette image peut être **analysée comme un tableau numpy**. \n",
        "\n",
        "\n",
        "Il est très facile de comparer des tableaux entre eux.\n",
        "Il \"suffit\" donc de :\n",
        "*   collecter chaque image, pour chaque site (...)\n",
        "*   stocker le tableau numpy correspondant \n",
        "*   rapprocher ce tableau d'un des 10 tableaux déjà connus."
      ],
      "metadata": {
        "id": "k5fjjK323Q_Z"
      }
    },
    {
      "cell_type": "markdown",
      "source": [
        "# Capture des données de page rank"
      ],
      "metadata": {
        "id": "RL1xSqp83kt4"
      }
    },
    {
      "cell_type": "code",
      "source": [
        "# Chargement des packages\n",
        "import requests\n",
        "import PIL.Image\n",
        "import pandas as pd\n",
        "import numpy as np\n",
        "from numpy import asarray\n",
        "from numpy import savetxt\n",
        "from numpy import loadtxt\n",
        "import time"
      ],
      "metadata": {
        "id": "2US_8Na54Bab"
      },
      "execution_count": null,
      "outputs": []
    },
    {
      "cell_type": "code",
      "source": [
        "# Création de la fonction de génération du tableau numpy de score pour un site donné\n",
        "\n",
        "def generate_page_rank_array(dns):\n",
        "  #Construction de la requête\n",
        "  if dns[:2] == 'fr':        \n",
        "    elem = 'www' + dns[2:]\n",
        "  else:\n",
        "    elem = dns\n",
        "  url = 'https://www.calcul-pagerank.fr/client/' + elem + '.gif'\n",
        "  s = requests.session()\n",
        "  img_data = s.get(url).content\n",
        "  img_name = dns + '.gif'\n",
        "  \n",
        "  #Je génère l'image\n",
        "  with open(img_name, 'wb') as handler:\n",
        "      handler.write(img_data)\n",
        "  #Je génère l'array pour cet enregistrement\n",
        "  image = PIL.Image.open(img_name)\n",
        "  #image array name\n",
        "  name = 'page_rank_' + dns\n",
        "  name = name\n",
        " \n",
        "  # J'affecte à name le contenu de l'array\n",
        "  name = np.array(image)\n",
        "  \n",
        "  # save to csv file\n",
        "  csv_name = dns + '.csv'\n",
        "  savetxt(csv_name, name, delimiter=',')\n",
        "\n",
        "  return name\n",
        "\n",
        "\n",
        "# Collecte des images et de tableaux \n",
        "\n",
        "all_dns = pd.read_csv('/content/drive/MyDrive/dns.csv').drop(columns=['Unnamed: 0'])\n",
        "mylist = all_dns.displayLink.values\n",
        "page_rank = pd.DataFrame()\n",
        "\n",
        "for e in mylist:\n",
        "  try:\n",
        "    generate_page_rank_array(e)\n",
        "    elem = [e, generate_page_rank_array(e)]\n",
        "  except:\n",
        "    elem = [e, '']\n",
        "  temp = pd.DataFrame(elem).T\n",
        "  page_rank = pd.concat([page_rank, temp], axis=0)\n",
        "page_rank.to_csv('+++++dns_avec tableau.csv')\n",
        "page_rank"
      ],
      "metadata": {
        "id": "HSt3zklW4gI0"
      },
      "execution_count": null,
      "outputs": []
    },
    {
      "cell_type": "markdown",
      "source": [
        "# Fusion des tables de données"
      ],
      "metadata": {
        "id": "KDpFS59i4vSh"
      }
    },
    {
      "cell_type": "code",
      "source": [
        "import os\n",
        "from google.colab import drive\n",
        "drive.mount('/content/drive', force_remount=True)"
      ],
      "metadata": {
        "id": "LMnEuxCT43Jh"
      },
      "execution_count": null,
      "outputs": []
    },
    {
      "cell_type": "markdown",
      "source": [
        "**On dénombre le nombre de gifs générés à l'issue de la collecte**"
      ],
      "metadata": {
        "id": "izE9Rl0A489p"
      }
    },
    {
      "cell_type": "code",
      "source": [
        "os.chdir('/content/drive/MyDrive/test')"
      ],
      "metadata": {
        "id": "mPfd2-J55D1J"
      },
      "execution_count": null,
      "outputs": []
    },
    {
      "cell_type": "code",
      "source": [
        "#On rapproche les images générées des nom de domaines\n",
        "done = pd.DataFrame(liste)\n",
        "done = done.rename(columns={0 : 'img_file'})\n",
        "done['dns'] = [c[:c.rfind('.')] for c in done.img_file]\n",
        "done.head()"
      ],
      "metadata": {
        "id": "K-9lCq1K5LJE"
      },
      "execution_count": null,
      "outputs": []
    },
    {
      "cell_type": "markdown",
      "source": [
        "**Merge avec les dns de base**"
      ],
      "metadata": {
        "id": "-PTX41v35Ss7"
      }
    },
    {
      "cell_type": "code",
      "source": [
        "base = pd.read_csv('/content/drive/MyDrive/ZZZTEST/dns.csv')\n",
        "result = base.merge(done, left_on='displayLink', right_on ='dns', how='left')"
      ],
      "metadata": {
        "id": "8IxkqkCc5a2-"
      },
      "execution_count": null,
      "outputs": []
    },
    {
      "cell_type": "markdown",
      "source": [
        "**Concatenation de l'ensemble des arrays numpy correspondant aux scores**"
      ],
      "metadata": {
        "id": "IZFeOpx05kdH"
      }
    },
    {
      "cell_type": "code",
      "source": [
        "# liste de tous les fichiers d'un dossier\n",
        "# import os\n",
        "from fnmatch import fnmatch\n",
        "root = '/content/drive/MyDrive/test'\n",
        "pattern = \"*rank*\"\n",
        "i=0\n",
        "liste = []\n",
        "for path, subdirs, files in os.walk(root):\n",
        "    for name in files:\n",
        "        if fnmatch(name, pattern):\n",
        "            liste.append(name)\n",
        "            i+=1\n",
        "liste"
      ],
      "metadata": {
        "id": "m7-xAIpP5rgS"
      },
      "execution_count": null,
      "outputs": []
    },
    {
      "cell_type": "code",
      "source": [
        "total = pd.DataFrame()\n",
        "for e in liste:\n",
        "  temp = pd.read_csv(e)\n",
        "  total = pd.concat([total, temp], axis=0)\n",
        "total.drop(columns=['Unnamed: 0'], inplace=True)\n",
        "total = total.rename(dict(zip(total.columns, ['col1', 'col2'])))\n",
        "total.rename(columns={0:'col0'}, inplace=True)"
      ],
      "metadata": {
        "id": "XTFOVjv85w66"
      },
      "execution_count": null,
      "outputs": []
    },
    {
      "cell_type": "code",
      "source": [
        "total.sample(5)"
      ],
      "metadata": {
        "id": "8C16N4NK53cV"
      },
      "execution_count": null,
      "outputs": []
    },
    {
      "cell_type": "markdown",
      "source": [
        "**Mise en place d'une table de correspondance tableau numpy versus page_rank score**"
      ],
      "metadata": {
        "id": "_PuHuxj26A8r"
      }
    },
    {
      "cell_type": "code",
      "source": [
        "matching = total.drop_duplicates(subset=['1'])\n",
        "matching"
      ],
      "metadata": {
        "id": "tjg2dC-e6Msy"
      },
      "execution_count": null,
      "outputs": []
    },
    {
      "cell_type": "code",
      "source": [
        "matching['0'].values\n"
      ],
      "metadata": {
        "id": "MojZ-9qv6VFL"
      },
      "execution_count": null,
      "outputs": []
    },
    {
      "cell_type": "code",
      "source": [
        "# Création de la table de correspondance\n",
        "corresp = pd.DataFrame.from_dict({\n",
        "    'candidat.pole-emploi.fr' :6,\n",
        "    'fr.indeed.com'           :8,\n",
        "    'www.estjob.com'          :5,\n",
        "    'fr.linkedin.com'         :9,\n",
        "    'www.crit-job.com'        :4,\n",
        "    'www.glassdoor.fr'        :1,\n",
        "    'www.lejobadequat.com'    :0,\n",
        "    'www.ouest-france.fr'     :7,\n",
        "    'www.pmejob.fr'           :3,\n",
        "    'www.eterritoire.fr'      :2\n",
        "                                }, orient='index').reset_index()\n",
        "\n",
        "page_rank = matching.merge(corresp, how='left', left_on='0', right_on='index').drop(columns=['0', 'index'])\n",
        "page_rank = page_rank.rename(columns={'1' : 'np_array', 0: 'score'})\n",
        "page_rank"
      ],
      "metadata": {
        "id": "TetWW1Gp6daj"
      },
      "execution_count": null,
      "outputs": []
    },
    {
      "cell_type": "markdown",
      "source": [
        "**Merge des dns et des tableaux numpy de score**"
      ],
      "metadata": {
        "id": "7XMcgok56r_d"
      }
    },
    {
      "cell_type": "code",
      "source": [
        "page_rank = total.merge(page_rank, left_on='1', right_on='np_array', how='left')\n",
        "page_rank = page_rank[['0', 'score']]\n",
        "page_rank.rename(columns={'0' : 'dns'}, inplace=True)"
      ],
      "metadata": {
        "id": "Z3QDWisU6048"
      },
      "execution_count": null,
      "outputs": []
    },
    {
      "cell_type": "code",
      "source": [
        "os.getcwd()"
      ],
      "metadata": {
        "id": "gnUt_8UI65HF"
      },
      "execution_count": null,
      "outputs": []
    },
    {
      "cell_type": "code",
      "source": [
        "os.chdir(\"/content/drive/MyDrive/111_goldfinger/data_collection\")"
      ],
      "metadata": {
        "id": "d5iajOOo6-5g"
      },
      "execution_count": null,
      "outputs": []
    },
    {
      "cell_type": "code",
      "source": [
        "# !mkdir results"
      ],
      "metadata": {
        "id": "ByBfIwWS7E8I"
      },
      "execution_count": null,
      "outputs": []
    },
    {
      "cell_type": "code",
      "source": [
        "page_rank.to_csv('./results/page_rank_done.csv')\n",
        "page_rank.sample(10)"
      ],
      "metadata": {
        "id": "ecxTM_0C7LGq"
      },
      "execution_count": null,
      "outputs": []
    },
    {
      "cell_type": "code",
      "source": [
        "**Vérification de l'export des données**"
      ],
      "metadata": {
        "id": "ZJtU0iwY7ST5"
      },
      "execution_count": null,
      "outputs": []
    },
    {
      "cell_type": "code",
      "source": [
        "from google.colab import drive\n",
        "drive.mount('/content/drive', force_remount=True)"
      ],
      "metadata": {
        "id": "CcGenM_p7Yki"
      },
      "execution_count": null,
      "outputs": []
    },
    {
      "cell_type": "code",
      "source": [
        "os.chdir('./results')"
      ],
      "metadata": {
        "id": "zC1bkbIH7hSa"
      },
      "execution_count": null,
      "outputs": []
    },
    {
      "cell_type": "code",
      "source": [
        "!ls"
      ],
      "metadata": {
        "id": "tObbOLAj7nlz"
      },
      "execution_count": null,
      "outputs": []
    }
  ]
}